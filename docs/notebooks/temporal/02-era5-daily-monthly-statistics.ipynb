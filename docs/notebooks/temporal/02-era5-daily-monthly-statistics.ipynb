{
 "cells": [
  {
   "attachments": {},
   "cell_type": "markdown",
   "metadata": {},
   "source": [
    "# Daily statistics from hourly ERA5 data"
   ]
  },
  {
   "cell_type": "code",
   "execution_count": null,
   "metadata": {},
   "outputs": [],
   "source": [
    "# If first time running, uncomment the line below to install any additional dependancies\n",
    "# !bash requirements-for-notebooks.sh"
   ]
  },
  {
   "cell_type": "code",
   "execution_count": null,
   "metadata": {},
   "outputs": [],
   "source": [
    "from earthkit import aggregate as ek_aggregate\n",
    "from earthkit import data as ek_data\n",
    "\n",
    "from earthkit.data.testing import earthkit_remote_test_data_file\n",
    "ek_data.settings.set(\"cache-policy\", \"user\")\n",
    "\n",
    "import matplotlib.pyplot as plt"
   ]
  },
  {
   "cell_type": "markdown",
   "metadata": {},
   "source": [
    "## Load some test data\n",
    "\n",
    "All `earthkit-climate` methods can be called with `earthkit-data` objects (Readers and Wrappers) or with the \n",
    "pre-loaded `xarray`.\n",
    "\n",
    "In this example we will use hourly ERA5 2m temperature data on a 0.5x0.5 spatial grid for the year 2015 as\n",
    "our physical data.\n",
    "\n",
    "First we download (if not already cached) lazily load the ERA5 data (please see tutorials in `earthkit-data` for more details in cache management).\n",
    "\n",
    "We inspect the data using the describe method and see we have some 2m air temperature data. For a more detailed representation of the data you can use the to_xarray method."
   ]
  },
  {
   "cell_type": "code",
   "execution_count": null,
   "metadata": {},
   "outputs": [],
   "source": [
    "# Get some demonstration ERA5 data, this could be any url or path to an ERA5 grib or netCDF file.\n",
    "remote_era5_file = earthkit_remote_test_data_file(\"test-data\", \"era5_temperature_europe_2015.grib\")\n",
    "era5_data = ek_data.from_source(\"url\", remote_era5_file)\n",
    "# era5_data.to_xarray()\n",
    "era5_data.describe()"
   ]
  },
  {
   "cell_type": "markdown",
   "metadata": {},
   "source": [
    "## Calculate the daily mean and standard deviation of the ERA5 data\n",
    "\n",
    "We can calculate the daily mean using daily_mean method in the temporal module. There are similar daily aggregation methods for the `daily_median`, `daily_min`, `daily_max`, `daily_std`, `daily_sum`, and all these again for monthly aggregations in the form `monthly_XXX`.\n",
    "\n",
    "**eartkit-aggregate** is able to understand any data object understood by **earthkit-data** as input. The **eartkit-aggregate** computation is based on xarray datacubes, therefore the returned object is an `xarray.Dataset`. To convert this to an Earthit object you could use the **earthkit-data** method, `from_object`.\n",
    "\n",
    "If the input data is provided an `xarray.Dataset` then the return object is `xarray.Dataset` and if the input is an `xarray.DataArray` then the return object is an `xarray.DataArray`.\n"
   ]
  },
  {
   "cell_type": "code",
   "execution_count": null,
   "metadata": {},
   "outputs": [],
   "source": [
    "era5_daily_mean = ek_aggregate.temporal.daily_mean(era5_data)\n",
    "era5_daily_std = ek_aggregate.temporal.daily_std(era5_data)\n",
    "era5_daily_mean\n",
    "# ek_data.from_object(era5_daily_mean)"
   ]
  },
  {
   "cell_type": "markdown",
   "metadata": {},
   "source": [
    "### Calculate the monthly mean and standard deviation"
   ]
  },
  {
   "cell_type": "code",
   "execution_count": null,
   "metadata": {},
   "outputs": [],
   "source": [
    "era5_monthly_mean = ek_aggregate.temporal.monthly_mean(era5_data)\n",
    "era5_monthly_std = ek_aggregate.temporal.monthly_std(era5_data)\n",
    "era5_monthly_std"
   ]
  },
  {
   "cell_type": "markdown",
   "metadata": {},
   "source": [
    "## Calculate a rolling mean with a 50 timestep window\n",
    "\n",
    "To calculate a rolling mean along the time dimension you can use the rolling_reduce function.\n",
    "\n",
    "NOTE: An improved API to the rolling_reduce method is an ongoing task"
   ]
  },
  {
   "cell_type": "code",
   "execution_count": null,
   "metadata": {},
   "outputs": [],
   "source": [
    "era5_rolling = ek_aggregate.temporal.rolling_reduce(\n",
    "    era5_data, 50, how_reduce=\"mean\", center=True,\n",
    ")\n",
    "era5_rolling"
   ]
  },
  {
   "cell_type": "markdown",
   "metadata": {},
   "source": [
    "## Account for non-UTC timezones\n",
    "\n",
    "There is a time_shift argument which can be used to account for non-UTC time zones:"
   ]
  },
  {
   "cell_type": "code",
   "execution_count": null,
   "metadata": {},
   "outputs": [],
   "source": [
    "era5_daily_mean_p12 = ek_aggregate.temporal.daily_mean(era5_data, time_shift={\"hours\": 12})\n",
    "era5_daily_mean_p12"
   ]
  },
  {
   "cell_type": "markdown",
   "metadata": {},
   "source": [
    "## Plot a random point location to see the different aggregation methods"
   ]
  },
  {
   "cell_type": "code",
   "execution_count": null,
   "metadata": {},
   "outputs": [],
   "source": [
    "isel_kwargs = {\"latitude\":100, \"longitude\":100}\n",
    "\n",
    "fig, ax = plt.subplots(ncols=1, nrows=1, figsize=(10,5))\n",
    "\n",
    "era5_data.to_xarray().t2m.isel(**isel_kwargs).plot(label='Raw data', ax=ax, color='blue')\n",
    "era5_daily_mean.t2m.isel(**isel_kwargs).plot(\n",
    "    label='Daily mean', ax=ax, color='orange'\n",
    ")\n",
    "\n",
    "era5_daily_mean_p12.t2m.isel(**isel_kwargs).plot(\n",
    "    label='Daily mean (12h shift)', ax=ax, color='purple'\n",
    ")\n",
    "\n",
    "# # To add the daily spread as orange dotted lines:\n",
    "# upper_d = era5_daily_mean.t2m + era5_daily_std.t2m\n",
    "# lower_d = era5_daily_mean.t2m - era5_daily_std.t2m\n",
    "# upper_d.isel(**isel_kwargs).plot(ax=ax, label='Daily standard deviation spread', linestyle='--', color='orange')\n",
    "# lower_d.isel(**isel_kwargs).plot(ax=ax, linestyle='--', color='orange')\n",
    "\n",
    "# Add the rolling mean as green line:\n",
    "era5_rolling.t2m.isel(**isel_kwargs).plot(label='Rolling mean', ax=ax, color='green')\n",
    "\n",
    "# Add the monthly mean as a black solid line and spread as black dotted lines:\n",
    "era5_monthly_mean.t2m.isel(**isel_kwargs).plot(label='Monthly mean', ax=ax, color='black')\n",
    "upper_m = era5_monthly_mean.t2m + era5_monthly_std.t2m\n",
    "lower_m = era5_monthly_mean.t2m - era5_monthly_std.t2m\n",
    "upper_m.isel(**isel_kwargs).plot(ax=ax, label='Monthly standard deviation spread', linestyle='--', color='black')\n",
    "lower_m.isel(**isel_kwargs).plot(ax=ax, linestyle='--', color='black')\n",
    "\n",
    "\n",
    "# figure = fig[0].get_figure()\n",
    "ax.legend(loc=2)\n",
    "ax.set_title(\"Aggregation methods\")\n",
    "plt.show()"
   ]
  },
  {
   "cell_type": "code",
   "execution_count": null,
   "metadata": {},
   "outputs": [],
   "source": []
  }
 ],
 "metadata": {
  "kernelspec": {
   "display_name": "Python 3.10.6 ('earthkit-data')",
   "language": "python",
   "name": "python3"
  },
  "language_info": {
   "codemirror_mode": {
    "name": "ipython",
    "version": 3
   },
   "file_extension": ".py",
   "mimetype": "text/x-python",
   "name": "python",
   "nbconvert_exporter": "python",
   "pygments_lexer": "ipython3",
   "version": "3.11.8"
  },
  "vscode": {
   "interpreter": {
    "hash": "58c973d167e6390f895c0b1f5bfc390aa59fea9f5b6b442df4c096a67487aa21"
   }
  }
 },
 "nbformat": 4,
 "nbformat_minor": 2
}
