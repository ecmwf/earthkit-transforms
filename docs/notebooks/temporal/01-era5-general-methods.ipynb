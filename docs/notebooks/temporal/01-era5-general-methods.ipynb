{
 "cells": [
  {
   "attachments": {},
   "cell_type": "markdown",
   "metadata": {},
   "source": [
    "# General temporal aggregation methods"
   ]
  },
  {
   "cell_type": "code",
   "execution_count": null,
   "metadata": {},
   "outputs": [],
   "source": [
    "# If first time running, uncomment the line below to install any additional dependancies\n",
    "# !bash requirements-for-notebooks.sh"
   ]
  },
  {
   "cell_type": "code",
   "execution_count": null,
   "metadata": {},
   "outputs": [],
   "source": [
    "from earthkit import aggregate as ek_aggregate\n",
    "from earthkit import data as ek_data\n",
    "\n",
    "from earthkit.data.testing import earthkit_remote_test_data_file\n",
    "ek_data.settings.set(\"cache-policy\", \"user\")"
   ]
  },
  {
   "cell_type": "markdown",
   "metadata": {},
   "source": [
    "## Load some test data\n",
    "\n",
    "All `earthkit-climate` methods can be called with `earthkit-data` objects (Readers and Wrappers) or with the \n",
    "pre-loaded `xarray`.\n",
    "\n",
    "In this example we will use hourly ERA5 2m temperature data on a 0.5x0.5 spatial grid for the year 2015 as\n",
    "our physical data.\n",
    "\n",
    "First we download (if not already cached) lazily load the ERA5 data (please see tutorials in `earthkit-data` for more details in cache management).\n",
    "\n",
    "We inspect the data using the describe method and see we have some 2m air temperature data. For a more detailed representation of the data you can use the to_xarray method."
   ]
  },
  {
   "cell_type": "code",
   "execution_count": null,
   "metadata": {},
   "outputs": [],
   "source": [
    "# Get some demonstration ERA5 data, this could be any url or path to an ERA5 grib or netCDF file.\n",
    "remote_era5_file = earthkit_remote_test_data_file(\"test-data\", \"era5_temperature_europe_2015.grib\")\n",
    "era5_data = ek_data.from_source(\"url\", remote_era5_file)\n",
    "era5_data.describe()\n",
    "# era5_data.to_xarray()"
   ]
  },
  {
   "cell_type": "markdown",
   "metadata": {},
   "source": [
    "## Reduce the ERA5 data over the time dimension\n",
    "\n",
    "The default reduction method is `mean`, other methods can be applied using the `how` kwarg.\n",
    "\n",
    "Note that we do not need to worry about the data format of the input array, earthkit will convert it to the required xarray format internally.\n",
    "\n",
    "The returned object is an xarray dataset, however this may change in future version of the package.\n",
    "\n",
    "### The mean over the time dimension"
   ]
  },
  {
   "cell_type": "code",
   "execution_count": null,
   "metadata": {},
   "outputs": [],
   "source": [
    "era5_t_mean = ek_aggregate.temporal.reduce(era5_data)  # how=\"mean\"\n",
    "era5_t_mean"
   ]
  },
  {
   "cell_type": "code",
   "execution_count": null,
   "metadata": {},
   "outputs": [],
   "source": [
    "# A simple matplotlib plot to view the data:\n",
    "era5_t_mean.t2m.plot()"
   ]
  },
  {
   "cell_type": "markdown",
   "metadata": {},
   "source": [
    "### The median over the time dimension"
   ]
  },
  {
   "cell_type": "code",
   "execution_count": null,
   "metadata": {},
   "outputs": [],
   "source": [
    "era5_t_median = ek_aggregate.temporal.reduce(era5_data, how=\"median\")\n",
    "era5_t_median"
   ]
  },
  {
   "cell_type": "code",
   "execution_count": null,
   "metadata": {},
   "outputs": [],
   "source": [
    "# A simple matplotlib plot to view the data:\n",
    "era5_t_median.t2m.plot()"
   ]
  },
  {
   "cell_type": "markdown",
   "metadata": {},
   "source": [
    "## Calculate a rolling mean with a 50 timestep window\n",
    "\n",
    "There is no temporal specific method for a rolling reduction. The general rolling_reduce method can do this calculation by specifying the dimension over which you would like to reduce."
   ]
  },
  {
   "cell_type": "code",
   "execution_count": null,
   "metadata": {},
   "outputs": [],
   "source": [
    "era5_rolling = ek_aggregate.rolling_reduce(\n",
    "    era5_data, time=50, center=True,\n",
    ")\n",
    "era5_rolling"
   ]
  },
  {
   "cell_type": "code",
   "execution_count": null,
   "metadata": {},
   "outputs": [],
   "source": []
  }
 ],
 "metadata": {
  "kernelspec": {
   "display_name": "Python 3.10.6 ('earthkit-data')",
   "language": "python",
   "name": "python3"
  },
  "language_info": {
   "codemirror_mode": {
    "name": "ipython",
    "version": 3
   },
   "file_extension": ".py",
   "mimetype": "text/x-python",
   "name": "python",
   "nbconvert_exporter": "python",
   "pygments_lexer": "ipython3",
   "version": "3.11.8"
  },
  "vscode": {
   "interpreter": {
    "hash": "58c973d167e6390f895c0b1f5bfc390aa59fea9f5b6b442df4c096a67487aa21"
   }
  }
 },
 "nbformat": 4,
 "nbformat_minor": 2
}
